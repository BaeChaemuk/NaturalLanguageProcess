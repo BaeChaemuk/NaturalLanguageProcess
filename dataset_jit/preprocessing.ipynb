{
 "cells": [
  {
   "cell_type": "code",
   "execution_count": 1,
   "metadata": {},
   "outputs": [],
   "source": [
    "trainKo = open(\"koTrain.txt\", 'r')\n",
    "trainKoText = trainKo.read()\n",
    "trainKoDf = trainKoText.split('\\n')\n",
    "trainKo.close()"
   ]
  },
  {
   "cell_type": "code",
   "execution_count": 2,
   "metadata": {},
   "outputs": [],
   "source": [
    "testKo = open(\"koTest.txt\", 'r')\n",
    "testKoText = testKo.read()\n",
    "testKoDf = testKoText.split('\\n')\n",
    "testKo.close()"
   ]
  },
  {
   "cell_type": "code",
   "execution_count": 3,
   "metadata": {},
   "outputs": [],
   "source": [
    "trainJe = open(\"jeTrain.txt\", 'r')\n",
    "trainJeText = trainJe.read()\n",
    "trainJeDf = trainJeText.split('\\n')\n",
    "trainJe.close()"
   ]
  },
  {
   "cell_type": "code",
   "execution_count": 4,
   "metadata": {},
   "outputs": [],
   "source": [
    "testJe = open(\"jeTest.txt\", 'r')\n",
    "testJeText = testJe.read()\n",
    "testJeDf = testJeText.split('\\n')\n",
    "testJe.close()"
   ]
  },
  {
   "cell_type": "code",
   "execution_count": 5,
   "metadata": {},
   "outputs": [],
   "source": [
    "#trainKoDf_ = []\n",
    "#for sent in trainKoDf:\n",
    "#    trainKoDf_.append(\"[CLS] \"+ sent +\" [SEP]\")\n",
    "#    \n",
    "#testKoDf_ = []\n",
    "#for sent in trainKoDf:\n",
    "#    testKoDf_.append(\"[CLS] \"+ sent +\" [SEP]\")\n",
    "#    \n",
    "#trainJeDf_ = []\n",
    "#for sent in trainKoDf:\n",
    "#    trainJeDf_.append(\"[CLS] \"+ sent +\" [SEP]\")\n",
    "#    \n",
    "#testJeDf_ = []\n",
    "#for sent in trainKoDf:\n",
    "#    testJeDf_.append(\"[CLS] \"+ sent +\" [SEP]\")"
   ]
  },
  {
   "cell_type": "code",
   "execution_count": 6,
   "metadata": {},
   "outputs": [],
   "source": [
    "import pandas as pd\n",
    "from sklearn.model_selection import train_test_split"
   ]
  },
  {
   "cell_type": "code",
   "execution_count": 7,
   "metadata": {},
   "outputs": [],
   "source": [
    "train = pd.DataFrame({\"ko\":trainKoDf,'je':trainJeDf})\n",
    "test = pd.DataFrame({\"ko\":testKoDf,'je':testJeDf})"
   ]
  },
  {
   "cell_type": "markdown",
   "metadata": {},
   "source": []
  },
  {
   "cell_type": "code",
   "execution_count": 39,
   "metadata": {},
   "outputs": [],
   "source": [
    "train, valid = train_test_split(train, test_size=0.1, random_state=1331)"
   ]
  },
  {
   "cell_type": "code",
   "execution_count": 8,
   "metadata": {},
   "outputs": [
    {
     "data": {
      "text/html": [
       "<div>\n",
       "<style scoped>\n",
       "    .dataframe tbody tr th:only-of-type {\n",
       "        vertical-align: middle;\n",
       "    }\n",
       "\n",
       "    .dataframe tbody tr th {\n",
       "        vertical-align: top;\n",
       "    }\n",
       "\n",
       "    .dataframe thead th {\n",
       "        text-align: right;\n",
       "    }\n",
       "</style>\n",
       "<table border=\"1\" class=\"dataframe\">\n",
       "  <thead>\n",
       "    <tr style=\"text-align: right;\">\n",
       "      <th></th>\n",
       "      <th>ko</th>\n",
       "      <th>je</th>\n",
       "    </tr>\n",
       "  </thead>\n",
       "  <tbody>\n",
       "    <tr>\n",
       "      <th>0</th>\n",
       "      <td>판관했던 거 ?</td>\n",
       "      <td>판관헤난 거 ?</td>\n",
       "    </tr>\n",
       "    <tr>\n",
       "      <th>1</th>\n",
       "      <td>우리 그냥 맨손에 맨손에 김도 매고 , 김도 베고 . 그렇게 했었어 , 옛날은 .</td>\n",
       "      <td>우리 그냥 맨손에 맨손에 검질도 메고 , 검질도 비고 . 경헤난 , 옛날은 .</td>\n",
       "    </tr>\n",
       "    <tr>\n",
       "      <th>2</th>\n",
       "      <td>예 .</td>\n",
       "      <td>에 .</td>\n",
       "    </tr>\n",
       "    <tr>\n",
       "      <th>3</th>\n",
       "      <td>응 , 그러니까 .</td>\n",
       "      <td>응 , 거니까 .</td>\n",
       "    </tr>\n",
       "    <tr>\n",
       "      <th>4</th>\n",
       "      <td>운영해 오다가 .</td>\n",
       "      <td>운영헤 오다가 .</td>\n",
       "    </tr>\n",
       "    <tr>\n",
       "      <th>...</th>\n",
       "      <td>...</td>\n",
       "      <td>...</td>\n",
       "    </tr>\n",
       "    <tr>\n",
       "      <th>160351</th>\n",
       "      <td>예 . 옛날에는 저기 무슨 마을계라고 해가지고 , 뭐 상여계도 있어나고 뭐 계 .</td>\n",
       "      <td>예 . 옛날에는 저기 무슨 마을접이엔 헤가지고 , 뭐 상여접도 잇어나곡 뭐 계 .</td>\n",
       "    </tr>\n",
       "    <tr>\n",
       "      <th>160352</th>\n",
       "      <td>땀띠 ?</td>\n",
       "      <td>ᄄᆞᆷ떼기 ?</td>\n",
       "    </tr>\n",
       "    <tr>\n",
       "      <th>160353</th>\n",
       "      <td>이 선흘에 . 우리 살았던 집 이제 다른 사람 살고 있지마는 , 우리 친정에 살았어 .</td>\n",
       "      <td>이 선흘에 . 우리 살아난 집 이제 ᄄᆞᆫ 사름 살암저마는 , 우리 친정에 살아난 .</td>\n",
       "    </tr>\n",
       "    <tr>\n",
       "      <th>160354</th>\n",
       "      <td>귀신 위해서 옛날 어른들 주저리 짜서 거기 덮어서 이제야 때나 무슨 때랑 거기 가서...</td>\n",
       "      <td>구신 우러근에 옛날 어른덜 주지 창 그디 더꺼근에 이 제ᄉᆞ 때나 무시거 때랑 그디...</td>\n",
       "    </tr>\n",
       "    <tr>\n",
       "      <th>160355</th>\n",
       "      <td>그럼 고추장은 안 담가서 먹었습니까 ?</td>\n",
       "      <td>게민 고추장은 안 담강 먹엇수과 ?</td>\n",
       "    </tr>\n",
       "  </tbody>\n",
       "</table>\n",
       "<p>160356 rows × 2 columns</p>\n",
       "</div>"
      ],
      "text/plain": [
       "                                                       ko  \\\n",
       "0                                                판관했던 거 ?   \n",
       "1           우리 그냥 맨손에 맨손에 김도 매고 , 김도 베고 . 그렇게 했었어 , 옛날은 .   \n",
       "2                                                     예 .   \n",
       "3                                              응 , 그러니까 .   \n",
       "4                                               운영해 오다가 .   \n",
       "...                                                   ...   \n",
       "160351      예 . 옛날에는 저기 무슨 마을계라고 해가지고 , 뭐 상여계도 있어나고 뭐 계 .   \n",
       "160352                                               땀띠 ?   \n",
       "160353   이 선흘에 . 우리 살았던 집 이제 다른 사람 살고 있지마는 , 우리 친정에 살았어 .   \n",
       "160354  귀신 위해서 옛날 어른들 주저리 짜서 거기 덮어서 이제야 때나 무슨 때랑 거기 가서...   \n",
       "160355                              그럼 고추장은 안 담가서 먹었습니까 ?   \n",
       "\n",
       "                                                       je  \n",
       "0                                                판관헤난 거 ?  \n",
       "1             우리 그냥 맨손에 맨손에 검질도 메고 , 검질도 비고 . 경헤난 , 옛날은 .  \n",
       "2                                                     에 .  \n",
       "3                                               응 , 거니까 .  \n",
       "4                                               운영헤 오다가 .  \n",
       "...                                                   ...  \n",
       "160351      예 . 옛날에는 저기 무슨 마을접이엔 헤가지고 , 뭐 상여접도 잇어나곡 뭐 계 .  \n",
       "160352                                            ᄄᆞᆷ떼기 ?  \n",
       "160353    이 선흘에 . 우리 살아난 집 이제 ᄄᆞᆫ 사름 살암저마는 , 우리 친정에 살아난 .  \n",
       "160354  구신 우러근에 옛날 어른덜 주지 창 그디 더꺼근에 이 제ᄉᆞ 때나 무시거 때랑 그디...  \n",
       "160355                                게민 고추장은 안 담강 먹엇수과 ?  \n",
       "\n",
       "[160356 rows x 2 columns]"
      ]
     },
     "execution_count": 8,
     "metadata": {},
     "output_type": "execute_result"
    }
   ],
   "source": [
    "train"
   ]
  },
  {
   "cell_type": "code",
   "execution_count": 9,
   "metadata": {},
   "outputs": [
    {
     "ename": "NameError",
     "evalue": "name 'valid' is not defined",
     "output_type": "error",
     "traceback": [
      "\u001b[1;31m---------------------------------------------------------------------------\u001b[0m",
      "\u001b[1;31mNameError\u001b[0m                                 Traceback (most recent call last)",
      "Cell \u001b[1;32mIn[9], line 1\u001b[0m\n\u001b[1;32m----> 1\u001b[0m valid\n",
      "\u001b[1;31mNameError\u001b[0m: name 'valid' is not defined"
     ]
    }
   ],
   "source": [
    "valid"
   ]
  },
  {
   "cell_type": "code",
   "execution_count": 16,
   "metadata": {},
   "outputs": [
    {
     "data": {
      "text/html": [
       "<div>\n",
       "<style scoped>\n",
       "    .dataframe tbody tr th:only-of-type {\n",
       "        vertical-align: middle;\n",
       "    }\n",
       "\n",
       "    .dataframe tbody tr th {\n",
       "        vertical-align: top;\n",
       "    }\n",
       "\n",
       "    .dataframe thead th {\n",
       "        text-align: right;\n",
       "    }\n",
       "</style>\n",
       "<table border=\"1\" class=\"dataframe\">\n",
       "  <thead>\n",
       "    <tr style=\"text-align: right;\">\n",
       "      <th></th>\n",
       "      <th>ko</th>\n",
       "      <th>je</th>\n",
       "    </tr>\n",
       "  </thead>\n",
       "  <tbody>\n",
       "    <tr>\n",
       "      <th>0</th>\n",
       "      <td>그래도 그거 살살 떠서 먹지 . 그거 안 먹진 않아 . 어떻게 옛날 삶이야 삶이 었어</td>\n",
       "      <td>경헤도 거 ᄉᆞᆯᄉᆞᆯ 거려뒁 먹주 . 거 안 먹진 안허여 . 어떵 옛날 삶사 삶 이랏어</td>\n",
       "    </tr>\n",
       "    <tr>\n",
       "      <th>1</th>\n",
       "      <td>마찬가지 그렇게 쌀 넣어서 물 넣고 해서 삶아가면 익어서 죽 되는 거 .</td>\n",
       "      <td>마찬가지 겅 ᄊᆞᆯ 넣어근엥 물 넣곡 허영 ᄉᆞᆱ아가면 익어근엥 죽 뒈는 거</td>\n",
       "    </tr>\n",
       "    <tr>\n",
       "      <th>2</th>\n",
       "      <td>그것보고 저 거시기 , 부엌 .</td>\n",
       "      <td>그것ᄀᆞ란 저 거세기 , 정지 .</td>\n",
       "    </tr>\n",
       "    <tr>\n",
       "      <th>3</th>\n",
       "      <td>예 , 동김치 그거 .</td>\n",
       "      <td>예 , 동김치 . 그거 .</td>\n",
       "    </tr>\n",
       "    <tr>\n",
       "      <th>4</th>\n",
       "      <td>그렇게 해버리니까 많이 김매야겠군 요</td>\n",
       "      <td>겅 헤부난 많이 검질메야겠다예 .</td>\n",
       "    </tr>\n",
       "    <tr>\n",
       "      <th>...</th>\n",
       "      <td>...</td>\n",
       "      <td>...</td>\n",
       "    </tr>\n",
       "    <tr>\n",
       "      <th>4995</th>\n",
       "      <td>메밀가루 해서 타서 저 무엇에 .</td>\n",
       "      <td>모물ᄏᆞ루 헤근엥에 카근엥에 저 무시것에 .</td>\n",
       "    </tr>\n",
       "    <tr>\n",
       "      <th>4996</th>\n",
       "      <td>사람이 밟아 , 소나 말로 밟아 ?</td>\n",
       "      <td>사름이 ᄇᆞᆯ라 , 쉐나 ᄆᆞᆯ로 ᄇᆞᆯ라 ?</td>\n",
       "    </tr>\n",
       "    <tr>\n",
       "      <th>4997</th>\n",
       "      <td>베어서 , 멍석하고 모두 , 옛날엔 멍석 가져서 밭에 가 . 도리깨질 해 . 메미짚...</td>\n",
       "      <td>비여근에 , 멍석이영 ᄆᆞᆫ , 옛날엔 멍석 ᄀᆞ졍 밧듸 가 . 도께질 ᄒᆞ여 . ...</td>\n",
       "    </tr>\n",
       "    <tr>\n",
       "      <th>4998</th>\n",
       "      <td>그처럼 붙일 때는 호는 바늘</td>\n",
       "      <td>그추룩 부칠 때는 호는 바농 .</td>\n",
       "    </tr>\n",
       "    <tr>\n",
       "      <th>4999</th>\n",
       "      <td>메주는 이 동짓달만 나면 삶아서 됩니다</td>\n",
       "      <td>메준 이 동짓ᄃᆞᆯ만 낭 ᄉᆞᆱ앙 뒙니다 .</td>\n",
       "    </tr>\n",
       "  </tbody>\n",
       "</table>\n",
       "<p>5000 rows × 2 columns</p>\n",
       "</div>"
      ],
      "text/plain": [
       "                                                     ko  \\\n",
       "0       그래도 그거 살살 떠서 먹지 . 그거 안 먹진 않아 . 어떻게 옛날 삶이야 삶이 었어   \n",
       "1              마찬가지 그렇게 쌀 넣어서 물 넣고 해서 삶아가면 익어서 죽 되는 거 .   \n",
       "2                                     그것보고 저 거시기 , 부엌 .   \n",
       "3                                          예 , 동김치 그거 .   \n",
       "4                                  그렇게 해버리니까 많이 김매야겠군 요   \n",
       "...                                                 ...   \n",
       "4995                                 메밀가루 해서 타서 저 무엇에 .   \n",
       "4996                                사람이 밟아 , 소나 말로 밟아 ?   \n",
       "4997  베어서 , 멍석하고 모두 , 옛날엔 멍석 가져서 밭에 가 . 도리깨질 해 . 메미짚...   \n",
       "4998                                    그처럼 붙일 때는 호는 바늘   \n",
       "4999                              메주는 이 동짓달만 나면 삶아서 됩니다   \n",
       "\n",
       "                                                     je  \n",
       "0     경헤도 거 ᄉᆞᆯᄉᆞᆯ 거려뒁 먹주 . 거 안 먹진 안허여 . 어떵 옛날 삶사 삶 이랏어  \n",
       "1            마찬가지 겅 ᄊᆞᆯ 넣어근엥 물 넣곡 허영 ᄉᆞᆱ아가면 익어근엥 죽 뒈는 거  \n",
       "2                                    그것ᄀᆞ란 저 거세기 , 정지 .  \n",
       "3                                        예 , 동김치 . 그거 .  \n",
       "4                                    겅 헤부난 많이 검질메야겠다예 .  \n",
       "...                                                 ...  \n",
       "4995                           모물ᄏᆞ루 헤근엥에 카근엥에 저 무시것에 .  \n",
       "4996                          사름이 ᄇᆞᆯ라 , 쉐나 ᄆᆞᆯ로 ᄇᆞᆯ라 ?  \n",
       "4997  비여근에 , 멍석이영 ᄆᆞᆫ , 옛날엔 멍석 ᄀᆞ졍 밧듸 가 . 도께질 ᄒᆞ여 . ...  \n",
       "4998                                  그추룩 부칠 때는 호는 바농 .  \n",
       "4999                           메준 이 동짓ᄃᆞᆯ만 낭 ᄉᆞᆱ앙 뒙니다 .  \n",
       "\n",
       "[5000 rows x 2 columns]"
      ]
     },
     "execution_count": 16,
     "metadata": {},
     "output_type": "execute_result"
    }
   ],
   "source": [
    "test"
   ]
  },
  {
   "cell_type": "code",
   "execution_count": 17,
   "metadata": {},
   "outputs": [],
   "source": [
    "num_trian = 160000\n",
    "num_test = 5000"
   ]
  },
  {
   "cell_type": "code",
   "execution_count": 20,
   "metadata": {},
   "outputs": [],
   "source": [
    "train_ = train[:num_trian].reset_index()\n",
    "train_.drop(columns=\"index\", axis=1, inplace=True)"
   ]
  },
  {
   "cell_type": "code",
   "execution_count": 21,
   "metadata": {},
   "outputs": [
    {
     "data": {
      "text/html": [
       "<div>\n",
       "<style scoped>\n",
       "    .dataframe tbody tr th:only-of-type {\n",
       "        vertical-align: middle;\n",
       "    }\n",
       "\n",
       "    .dataframe tbody tr th {\n",
       "        vertical-align: top;\n",
       "    }\n",
       "\n",
       "    .dataframe thead th {\n",
       "        text-align: right;\n",
       "    }\n",
       "</style>\n",
       "<table border=\"1\" class=\"dataframe\">\n",
       "  <thead>\n",
       "    <tr style=\"text-align: right;\">\n",
       "      <th></th>\n",
       "      <th>ko</th>\n",
       "      <th>je</th>\n",
       "    </tr>\n",
       "  </thead>\n",
       "  <tbody>\n",
       "    <tr>\n",
       "      <th>0</th>\n",
       "      <td>판관했던 거 ?</td>\n",
       "      <td>판관헤난 거 ?</td>\n",
       "    </tr>\n",
       "    <tr>\n",
       "      <th>1</th>\n",
       "      <td>우리 그냥 맨손에 맨손에 김도 매고 , 김도 베고 . 그렇게 했었어 , 옛날은 .</td>\n",
       "      <td>우리 그냥 맨손에 맨손에 검질도 메고 , 검질도 비고 . 경헤난 , 옛날은 .</td>\n",
       "    </tr>\n",
       "    <tr>\n",
       "      <th>2</th>\n",
       "      <td>예 .</td>\n",
       "      <td>에 .</td>\n",
       "    </tr>\n",
       "    <tr>\n",
       "      <th>3</th>\n",
       "      <td>응 , 그러니까 .</td>\n",
       "      <td>응 , 거니까 .</td>\n",
       "    </tr>\n",
       "    <tr>\n",
       "      <th>4</th>\n",
       "      <td>운영해 오다가 .</td>\n",
       "      <td>운영헤 오다가 .</td>\n",
       "    </tr>\n",
       "    <tr>\n",
       "      <th>...</th>\n",
       "      <td>...</td>\n",
       "      <td>...</td>\n",
       "    </tr>\n",
       "    <tr>\n",
       "      <th>159995</th>\n",
       "      <td>밭에서 다 뜯어 ?</td>\n",
       "      <td>밧듸서 다 ᄐᆞᆮ아 ?</td>\n",
       "    </tr>\n",
       "    <tr>\n",
       "      <th>159996</th>\n",
       "      <td>위에 막 그물망들 했던데요 .</td>\n",
       "      <td>우이 막 그믈망들 해십디다 .</td>\n",
       "    </tr>\n",
       "    <tr>\n",
       "      <th>159997</th>\n",
       "      <td>하얀 수건하고 막 .</td>\n",
       "      <td>하얀 수건하고 막 .</td>\n",
       "    </tr>\n",
       "    <tr>\n",
       "      <th>159998</th>\n",
       "      <td>호미로 가서 베어 ?</td>\n",
       "      <td>호미로 강 비어 ?</td>\n",
       "    </tr>\n",
       "    <tr>\n",
       "      <th>159999</th>\n",
       "      <td>진버짐은 매우 뻘겋게 그냥 난 조금 똑각했다가 이만큼 커 . 진버짐은 막 큰다 . ...</td>\n",
       "      <td>ᄎᆞᆷ버짐은 막 벌겅케 그냥 난 ᄒᆞᄁᆞᆷ 똑각헷당 이만이 큰다 . ᄎᆞᆷ버짐은 군...</td>\n",
       "    </tr>\n",
       "  </tbody>\n",
       "</table>\n",
       "<p>160000 rows × 2 columns</p>\n",
       "</div>"
      ],
      "text/plain": [
       "                                                       ko  \\\n",
       "0                                                판관했던 거 ?   \n",
       "1           우리 그냥 맨손에 맨손에 김도 매고 , 김도 베고 . 그렇게 했었어 , 옛날은 .   \n",
       "2                                                     예 .   \n",
       "3                                              응 , 그러니까 .   \n",
       "4                                               운영해 오다가 .   \n",
       "...                                                   ...   \n",
       "159995                                         밭에서 다 뜯어 ?   \n",
       "159996                                   위에 막 그물망들 했던데요 .   \n",
       "159997                                        하얀 수건하고 막 .   \n",
       "159998                                        호미로 가서 베어 ?   \n",
       "159999  진버짐은 매우 뻘겋게 그냥 난 조금 똑각했다가 이만큼 커 . 진버짐은 막 큰다 . ...   \n",
       "\n",
       "                                                       je  \n",
       "0                                                판관헤난 거 ?  \n",
       "1             우리 그냥 맨손에 맨손에 검질도 메고 , 검질도 비고 . 경헤난 , 옛날은 .  \n",
       "2                                                     에 .  \n",
       "3                                               응 , 거니까 .  \n",
       "4                                               운영헤 오다가 .  \n",
       "...                                                   ...  \n",
       "159995                                       밧듸서 다 ᄐᆞᆮ아 ?  \n",
       "159996                                   우이 막 그믈망들 해십디다 .  \n",
       "159997                                        하얀 수건하고 막 .  \n",
       "159998                                         호미로 강 비어 ?  \n",
       "159999  ᄎᆞᆷ버짐은 막 벌겅케 그냥 난 ᄒᆞᄁᆞᆷ 똑각헷당 이만이 큰다 . ᄎᆞᆷ버짐은 군...  \n",
       "\n",
       "[160000 rows x 2 columns]"
      ]
     },
     "execution_count": 21,
     "metadata": {},
     "output_type": "execute_result"
    }
   ],
   "source": [
    "train_"
   ]
  },
  {
   "cell_type": "code",
   "execution_count": 22,
   "metadata": {},
   "outputs": [],
   "source": [
    "train_.to_csv(\"train_jit.csv\", index=False,sep=\"\\t\")\n",
    "test.iloc[:num_test].to_csv(\"test_jit.csv\", index=False,sep=\"\\t\")"
   ]
  },
  {
   "cell_type": "code",
   "execution_count": null,
   "metadata": {},
   "outputs": [],
   "source": []
  },
  {
   "cell_type": "code",
   "execution_count": null,
   "metadata": {},
   "outputs": [],
   "source": []
  },
  {
   "cell_type": "code",
   "execution_count": null,
   "metadata": {},
   "outputs": [],
   "source": []
  },
  {
   "cell_type": "code",
   "execution_count": null,
   "metadata": {},
   "outputs": [],
   "source": []
  },
  {
   "cell_type": "code",
   "execution_count": null,
   "metadata": {},
   "outputs": [],
   "source": []
  }
 ],
 "metadata": {
  "kernelspec": {
   "display_name": "ET5",
   "language": "python",
   "name": "python3"
  },
  "language_info": {
   "codemirror_mode": {
    "name": "ipython",
    "version": 3
   },
   "file_extension": ".py",
   "mimetype": "text/x-python",
   "name": "python",
   "nbconvert_exporter": "python",
   "pygments_lexer": "ipython3",
   "version": "3.11.7"
  }
 },
 "nbformat": 4,
 "nbformat_minor": 2
}
